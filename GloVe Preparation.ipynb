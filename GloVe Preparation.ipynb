{
 "cells": [
  {
   "cell_type": "code",
   "execution_count": 12,
   "id": "22874a05",
   "metadata": {},
   "outputs": [],
   "source": [
    "import os\n",
    "import numpy as np"
   ]
  },
  {
   "cell_type": "code",
   "execution_count": 13,
   "id": "e075b0c7",
   "metadata": {},
   "outputs": [
    {
     "name": "stdout",
     "output_type": "stream",
     "text": [
      "D:\\GitHub\\SKRIPSI\\ORG-NACF\\ORG-NACF_Video-Captioning\n"
     ]
    }
   ],
   "source": [
    "print(os.getcwd())"
   ]
  },
  {
   "cell_type": "code",
   "execution_count": 14,
   "id": "f851ab28",
   "metadata": {},
   "outputs": [
    {
     "name": "stdout",
     "output_type": "stream",
     "text": [
      "The number of list : 400004\n"
     ]
    }
   ],
   "source": [
    "vocab_np = np.load(\"gloVe/vocab_npa.npy\")\n",
    "\n",
    "vocab_ls = vocab_np.tolist()\n",
    "\n",
    "print(\"The number of list : {}\".format(len(vocab_ls)))"
   ]
  },
  {
   "cell_type": "markdown",
   "id": "0f8ebe1a",
   "metadata": {},
   "source": [
    "# NEED TO GET VOCAB"
   ]
  },
  {
   "cell_type": "code",
   "execution_count": 16,
   "id": "f1668b58",
   "metadata": {},
   "outputs": [],
   "source": [
    "import pickle\n",
    "\n",
    "with open(\"Saved/msrvtt_index2word_dic.p\", 'rb') as f:\n",
    "    vocab = pickle.load(f)"
   ]
  },
  {
   "cell_type": "code",
   "execution_count": 17,
   "id": "e0201007",
   "metadata": {},
   "outputs": [
    {
     "name": "stdout",
     "output_type": "stream",
     "text": [
      "Number of Vocabs : 5044\n"
     ]
    }
   ],
   "source": [
    "word_from_cap = []\n",
    "\n",
    "for k, v in vocab.items():\n",
    "    word_from_cap.append(v)\n",
    "\n",
    "print(\"Number of Vocabs : {}\".format(len(word_from_cap)))"
   ]
  },
  {
   "cell_type": "code",
   "execution_count": 18,
   "id": "9c277075",
   "metadata": {},
   "outputs": [
    {
     "name": "stdout",
     "output_type": "stream",
     "text": [
      "There are 5044 existed words and total of 0 words that are not found in glove\n"
     ]
    }
   ],
   "source": [
    "existed_word = []\n",
    "index_word = []\n",
    "unk_word = []\n",
    "\n",
    "for word in word_from_cap:\n",
    "    if word in vocab_ls:\n",
    "        existed_word.append(word)\n",
    "        index_word.append(vocab_ls.index(word))\n",
    "    else:\n",
    "        unk_word.append(word)\n",
    "        \n",
    "print(\"There are {} existed words and total of {} words that are not found in glove\".format(len(existed_word), len(unk_word)))"
   ]
  },
  {
   "cell_type": "code",
   "execution_count": 19,
   "id": "4dc23a9f",
   "metadata": {},
   "outputs": [],
   "source": [
    "emb_np = np.load(\"gloVe/embs_npa.npy\")"
   ]
  },
  {
   "cell_type": "code",
   "execution_count": 20,
   "id": "ede15115",
   "metadata": {},
   "outputs": [],
   "source": [
    "final_emb = emb_np[index_word]"
   ]
  },
  {
   "cell_type": "code",
   "execution_count": 21,
   "id": "4d0fe747",
   "metadata": {},
   "outputs": [],
   "source": [
    "with open(\"gloVe/glove_init_1000.npy\", 'wb') as f:\n",
    "    np.save(f, final_emb)"
   ]
  },
  {
   "cell_type": "code",
   "execution_count": 22,
   "id": "7d0a7b2d",
   "metadata": {},
   "outputs": [
    {
     "data": {
      "text/plain": [
       "(5044, 300)"
      ]
     },
     "execution_count": 22,
     "metadata": {},
     "output_type": "execute_result"
    }
   ],
   "source": [
    "final_emb.shape"
   ]
  },
  {
   "cell_type": "code",
   "execution_count": 24,
   "id": "52e10287",
   "metadata": {},
   "outputs": [],
   "source": [
    "word2index = {}\n",
    "index2word = {}\n",
    "word2count = {}\n",
    "\n",
    "for idx, word in enumerate(existed_word):\n",
    "    word2index[word] = idx\n",
    "    index2word[idx] = word\n",
    "    word2count[word] = 3"
   ]
  },
  {
   "cell_type": "code",
   "execution_count": 28,
   "id": "521a0cf7",
   "metadata": {},
   "outputs": [
    {
     "data": {
      "text/plain": [
       "'kids'"
      ]
     },
     "execution_count": 28,
     "metadata": {},
     "output_type": "execute_result"
    }
   ],
   "source": [
    "existed_word[4]"
   ]
  },
  {
   "cell_type": "code",
   "execution_count": 26,
   "id": "46fd58dc",
   "metadata": {},
   "outputs": [
    {
     "data": {
      "text/plain": [
       "[0, 2, 1, 3, 1817, 17, 11, 141, 6748, 26]"
      ]
     },
     "execution_count": 26,
     "metadata": {},
     "output_type": "execute_result"
    }
   ],
   "source": [
    "index_word[:10]"
   ]
  },
  {
   "cell_type": "code",
   "execution_count": null,
   "id": "2880bc55",
   "metadata": {},
   "outputs": [],
   "source": [
    "wo"
   ]
  },
  {
   "cell_type": "code",
   "execution_count": null,
   "id": "64ad49dc",
   "metadata": {},
   "outputs": [],
   "source": [
    "count = 0\n",
    "\n",
    "for k, v in word2index.items():\n",
    "    if count < 50:\n",
    "        print(k, v)\n",
    "        count+=1\n",
    "    else:\n",
    "        break"
   ]
  },
  {
   "cell_type": "code",
   "execution_count": 32,
   "id": "f2d2d605",
   "metadata": {},
   "outputs": [],
   "source": [
    "word2index_dic = 'word2index_dic.p'\n",
    "index2word_dic = 'index2word_dic.p'\n",
    "word2count_dic = 'word2count_dic.p'\n",
    "name = 'msrvtt'\n",
    "\n",
    "w2i = os.path.join('Saved',name+'_'+word2index_dic)\n",
    "i2w = os.path.join('Saved',name+'_'+index2word_dic)\n",
    "w2c = os.path.join('Saved',name+'_'+word2count_dic)\n",
    "\n",
    "try:\n",
    "    with open(w2i, 'wb') as fp:\n",
    "        pickle.dump(word2index, fp, protocol=pickle.HIGHEST_PROTOCOL)\n",
    "\n",
    "    with open(i2w, 'wb') as fp:\n",
    "        pickle.dump(index2word, fp, protocol=pickle.HIGHEST_PROTOCOL)\n",
    "\n",
    "    with open(w2c, 'wb') as fp:\n",
    "        pickle.dump(word2count, fp, protocol=pickle.HIGHEST_PROTOCOL)\n",
    "except:\n",
    "    print('File loading error.. check the path or filename is correct')\n"
   ]
  }
 ],
 "metadata": {
  "kernelspec": {
   "display_name": "Python 3 (ipykernel)",
   "language": "python",
   "name": "python3"
  },
  "language_info": {
   "codemirror_mode": {
    "name": "ipython",
    "version": 3
   },
   "file_extension": ".py",
   "mimetype": "text/x-python",
   "name": "python",
   "nbconvert_exporter": "python",
   "pygments_lexer": "ipython3",
   "version": "3.9.2"
  }
 },
 "nbformat": 4,
 "nbformat_minor": 5
}
