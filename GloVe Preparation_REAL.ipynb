{
 "cells": [
  {
   "cell_type": "code",
   "execution_count": 2,
   "id": "22874a05",
   "metadata": {},
   "outputs": [],
   "source": [
    "import os\n",
    "import numpy as np"
   ]
  },
  {
   "cell_type": "code",
   "execution_count": 2,
   "id": "e075b0c7",
   "metadata": {},
   "outputs": [
    {
     "name": "stdout",
     "output_type": "stream",
     "text": [
      "D:\\GitHub\\SKRIPSI\\ORG-NACF\\ORG-NACF_Video-Captioning\n"
     ]
    }
   ],
   "source": [
    "print(os.getcwd())"
   ]
  },
  {
   "cell_type": "code",
   "execution_count": 3,
   "id": "f851ab28",
   "metadata": {},
   "outputs": [
    {
     "name": "stdout",
     "output_type": "stream",
     "text": [
      "The number of list : 400004\n"
     ]
    }
   ],
   "source": [
    "vocab_np = np.load(\"gloVe/vocab_npa.npy\")\n",
    "\n",
    "vocab_ls = vocab_np.tolist()\n",
    "\n",
    "print(\"The number of list : {}\".format(len(vocab_ls)))"
   ]
  },
  {
   "cell_type": "markdown",
   "id": "0f8ebe1a",
   "metadata": {},
   "source": [
    "# NEED TO GET VOCAB"
   ]
  },
  {
   "cell_type": "code",
   "execution_count": 4,
   "id": "f1668b58",
   "metadata": {},
   "outputs": [],
   "source": [
    "import pickle\n",
    "\n",
    "with open(\"Saved/msrvtt_index2word_dic.p\", 'rb') as f:\n",
    "    vocab = pickle.load(f)"
   ]
  },
  {
   "cell_type": "code",
   "execution_count": 5,
   "id": "e0201007",
   "metadata": {},
   "outputs": [
    {
     "name": "stdout",
     "output_type": "stream",
     "text": [
      "Number of Vocabs : 16862\n"
     ]
    }
   ],
   "source": [
    "word_from_cap = []\n",
    "\n",
    "for k, v in vocab.items():\n",
    "    word_from_cap.append(v)\n",
    "\n",
    "print(\"Number of Vocabs : {}\".format(len(word_from_cap)))"
   ]
  },
  {
   "cell_type": "code",
   "execution_count": 6,
   "id": "9c277075",
   "metadata": {},
   "outputs": [
    {
     "name": "stdout",
     "output_type": "stream",
     "text": [
      "There are 15560 existed words and total of 1302 words that are not found in glove\n"
     ]
    }
   ],
   "source": [
    "existed_word = []\n",
    "index_word = []\n",
    "unk_word = []\n",
    "\n",
    "for word in word_from_cap:\n",
    "    if word in vocab_ls:\n",
    "        existed_word.append(word)\n",
    "        index_word.append(vocab_ls.index(word))\n",
    "    else:\n",
    "        unk_word.append(word)\n",
    "        \n",
    "print(\"There are {} existed words and total of {} words that are not found in glove\".format(len(existed_word), len(unk_word)))"
   ]
  },
  {
   "cell_type": "code",
   "execution_count": 26,
   "id": "4dc23a9f",
   "metadata": {},
   "outputs": [],
   "source": [
    "emb_np = np.load(\"gloVe/embs_npa.npy\")"
   ]
  },
  {
   "cell_type": "markdown",
   "id": "6eb8d59e",
   "metadata": {},
   "source": [
    "### Membuat array baru dengan index baru dan merujuk pada index yang ditemukan di GloVe"
   ]
  },
  {
   "cell_type": "code",
   "execution_count": 28,
   "id": "ede15115",
   "metadata": {},
   "outputs": [],
   "source": [
    "final_emb = emb_np[index_word]"
   ]
  },
  {
   "cell_type": "code",
   "execution_count": 57,
   "id": "4d0fe747",
   "metadata": {},
   "outputs": [],
   "source": [
    "with open(\"gloVe/glove_init_vocab.npy\", 'wb') as f:\n",
    "    np.save(f, final_emb)"
   ]
  },
  {
   "cell_type": "code",
   "execution_count": 55,
   "id": "fd57e0ae",
   "metadata": {},
   "outputs": [],
   "source": [
    "temp = final_emb[1].copy()\n",
    "final_emb[1] = final_emb[2].copy()\n",
    "final_emb[2] = temp.copy()\n",
    "\n",
    "# temp = vocab_np[1]\n",
    "# vocab_np[1] = vocab_np[2]\n",
    "# vocab_np[2] = temp"
   ]
  },
  {
   "cell_type": "code",
   "execution_count": 22,
   "id": "365343a6",
   "metadata": {},
   "outputs": [
    {
     "data": {
      "text/plain": [
       "(15560, 300)"
      ]
     },
     "execution_count": 22,
     "metadata": {},
     "output_type": "execute_result"
    }
   ],
   "source": [
    "np.load(\"gloVe/glove_init_vocab.npy\")"
   ]
  },
  {
   "cell_type": "code",
   "execution_count": 41,
   "id": "47e6e47c",
   "metadata": {},
   "outputs": [
    {
     "data": {
      "text/plain": [
       "[0, 2, 1, 3, 11, 7366, 2434, 980, 135, 33]"
      ]
     },
     "execution_count": 41,
     "metadata": {},
     "output_type": "execute_result"
    }
   ],
   "source": [
    "index_word[:10]"
   ]
  },
  {
   "cell_type": "markdown",
   "id": "af8e9e41",
   "metadata": {},
   "source": [
    "# Update dictionarynya"
   ]
  },
  {
   "cell_type": "code",
   "execution_count": 47,
   "id": "51f85fdc",
   "metadata": {},
   "outputs": [],
   "source": [
    "# tukar eos dan posisi sos\n",
    "temp = existed_word[1]\n",
    "existed_word[1] = existed_word[2]\n",
    "existed_word[2] = temp"
   ]
  },
  {
   "cell_type": "code",
   "execution_count": 49,
   "id": "52e10287",
   "metadata": {},
   "outputs": [],
   "source": [
    "word2index = {}\n",
    "index2word = {}\n",
    "word2count = {}\n",
    "\n",
    "for idx, word in enumerate(existed_word):\n",
    "    word2index[word] = idx\n",
    "    index2word[idx] = word\n",
    "    word2count[word] = 3"
   ]
  },
  {
   "cell_type": "code",
   "execution_count": 50,
   "id": "f2d2d605",
   "metadata": {},
   "outputs": [],
   "source": [
    "word2index_dic = 'word2index_dic.p'\n",
    "index2word_dic = 'index2word_dic.p'\n",
    "word2count_dic = 'word2count_dic.p'\n",
    "name = 'msrvtt'\n",
    "\n",
    "w2i = os.path.join('Saved',name+'_'+word2index_dic)\n",
    "i2w = os.path.join('Saved',name+'_'+index2word_dic)\n",
    "w2c = os.path.join('Saved',name+'_'+word2count_dic)\n",
    "\n",
    "try:\n",
    "    with open(w2i, 'wb') as fp:\n",
    "        pickle.dump(word2index, fp, protocol=pickle.HIGHEST_PROTOCOL)\n",
    "\n",
    "    with open(i2w, 'wb') as fp:\n",
    "        pickle.dump(index2word, fp, protocol=pickle.HIGHEST_PROTOCOL)\n",
    "\n",
    "    with open(w2c, 'wb') as fp:\n",
    "        pickle.dump(word2count, fp, protocol=pickle.HIGHEST_PROTOCOL)\n",
    "except:\n",
    "    print('File loading error.. check the path or filename is correct')"
   ]
  },
  {
   "cell_type": "code",
   "execution_count": 51,
   "id": "b4a8680a",
   "metadata": {},
   "outputs": [
    {
     "name": "stdout",
     "output_type": "stream",
     "text": [
      "15560\n"
     ]
    }
   ],
   "source": [
    "print(len(index2word.keys()))"
   ]
  },
  {
   "cell_type": "markdown",
   "id": "eadb2ba7",
   "metadata": {},
   "source": [
    "# Check"
   ]
  },
  {
   "cell_type": "code",
   "execution_count": 4,
   "id": "acce7ade",
   "metadata": {},
   "outputs": [
    {
     "data": {
      "text/plain": [
       "(15560, 300)"
      ]
     },
     "execution_count": 4,
     "metadata": {},
     "output_type": "execute_result"
    }
   ],
   "source": [
    "np.load(\"gloVe/glove_init_vocab.npy\").shape"
   ]
  }
 ],
 "metadata": {
  "kernelspec": {
   "display_name": "Python 3 (ipykernel)",
   "language": "python",
   "name": "python3"
  },
  "language_info": {
   "codemirror_mode": {
    "name": "ipython",
    "version": 3
   },
   "file_extension": ".py",
   "mimetype": "text/x-python",
   "name": "python",
   "nbconvert_exporter": "python",
   "pygments_lexer": "ipython3",
   "version": "3.9.2"
  }
 },
 "nbformat": 4,
 "nbformat_minor": 5
}
