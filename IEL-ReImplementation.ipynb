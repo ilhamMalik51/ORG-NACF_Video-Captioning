{
 "cells": [
  {
   "cell_type": "code",
   "execution_count": null,
   "id": "19ab6648",
   "metadata": {},
   "outputs": [],
   "source": [
    "import torch\n",
    "import torch.nn as nn\n",
    "import torch.nn.functional as F"
   ]
  },
  {
   "cell_type": "markdown",
   "id": "4e308c58",
   "metadata": {},
   "source": [
    "# Input Embedding Layer for Features\n",
    "\n",
    "Input Embedding Layer (IEL) is an encoder method used in Non-Autoregressive Coarse-to-Fine Video Captioning (https://arxiv.org/abs/1911.12018) paper written by Bang Yang. "
   ]
  },
  {
   "cell_type": "code",
   "execution_count": null,
   "id": "69ee9540",
   "metadata": {},
   "outputs": [],
   "source": [
    "class ConfigORGTRL:\n",
    "    '''\n",
    "    Hyperparameter settings for Soft Attention based LSTM (SA-LSTM) model.\n",
    "    '''\n",
    "    def __init__(self, model_name='sa-lstm', opt_encoder=True):\n",
    "        self.appearance_input_size = 2048\n",
    "        self.motion_input_size = 2048\n",
    "        self.projected_size = 512\n",
    "        self.encoder_dropout_size = 0.5"
   ]
  },
  {
   "cell_type": "code",
   "execution_count": null,
   "id": "f745c97b",
   "metadata": {},
   "outputs": [],
   "source": [
    "class InputEmbeddingLayer(nn.Module):\n",
    "    def __init__(self, cfg):\n",
    "        super(InputEmbeddingLayer, self).__init__()\n",
    "        \n",
    "        self.w1 = nn.Linear(cfg.appearance_input_size, cfg.projected_size)\n",
    "        self.w2 = nn.Linear(cfg.projected_size, cfg.projected_size)\n",
    "        self.w3 = nn.Linear(cfg.projected_size, cfg.projected_size)\n",
    "        self.dropout = nn.Dropout(cfg.encoder_dropout_size)\n",
    "        \n",
    "    def forward(self, feats):\n",
    "        v_bar = self.w1(feats)\n",
    "        v_hat = torch.tanh(self.w2(v_bar))\n",
    "        gate = torch.sigmoid(self.w3(v_hat))\n",
    "        result = gate * v_bar + (1 - gate) * v_hat\n",
    "        \n",
    "        return self.dropout(result)"
   ]
  },
  {
   "cell_type": "code",
   "execution_count": null,
   "id": "6343a51f",
   "metadata": {},
   "outputs": [],
   "source": [
    "cfg = ConfigORGTRL()\n",
    "iel_encoder_appearance = InputEmbeddingLayer(cfg)\n",
    "iel_encoder_motion = InputEmbeddingLayer(cfg)"
   ]
  },
  {
   "cell_type": "code",
   "execution_count": null,
   "id": "8a388bbc",
   "metadata": {},
   "outputs": [],
   "source": [
    "appearance_feats = torch.randn(32, 8, 2048)\n",
    "motion_feats = torch.randn(32, 8, 2048)"
   ]
  },
  {
   "cell_type": "code",
   "execution_count": null,
   "id": "fd102b9a",
   "metadata": {},
   "outputs": [],
   "source": [
    "iel_encoder_appearance(appearance_feats).shape"
   ]
  },
  {
   "cell_type": "code",
   "execution_count": null,
   "id": "7fc41226",
   "metadata": {},
   "outputs": [],
   "source": [
    "iel_encoder_motion(motion_feats).shape"
   ]
  }
 ],
 "metadata": {
  "kernelspec": {
   "display_name": "Python 3 (ipykernel)",
   "language": "python",
   "name": "python3"
  },
  "language_info": {
   "codemirror_mode": {
    "name": "ipython",
    "version": 3
   },
   "file_extension": ".py",
   "mimetype": "text/x-python",
   "name": "python",
   "nbconvert_exporter": "python",
   "pygments_lexer": "ipython3",
   "version": "3.9.2"
  }
 },
 "nbformat": 4,
 "nbformat_minor": 5
}
